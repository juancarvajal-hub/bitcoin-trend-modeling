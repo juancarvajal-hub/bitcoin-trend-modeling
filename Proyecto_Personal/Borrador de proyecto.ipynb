{
 "cells": [
  {
   "cell_type": "code",
   "execution_count": 1,
   "id": "6939ddcd",
   "metadata": {},
   "outputs": [],
   "source": [
    "# Importación de paquetes \n",
    "import requests # Consultas de API\n",
    "import pandas as pd # Manejo de based de datos \n",
    "import time # Manejo de tiempo \n",
    "from datetime import datetime, timedelta # Manejo de fechas \n",
    "\n"
   ]
  },
  {
   "cell_type": "markdown",
   "id": "48e19bdb",
   "metadata": {},
   "source": [
    "Inicialmente habiamos creado un bloque de codigo para traer imformacion de  la Api de coingecko y guardarla en un data frame, para luego hacer un proyecto de series de tiempo en el cual se van a impletar modelos de pronosticos, pero debido a que la Api nos suministra imformación de solo un año, tenemos que crar una automozacion para que me traiga la imfromacion de los años que yo requiera, esto e caso de que nos volvamos usuarios privados de la API, porque para usuarios publicos solo podemos obtenr la imformacion de los ultimos 365 dias, vamos alla."
   ]
  },
  {
   "cell_type": "code",
   "execution_count": 2,
   "id": "f6d6cf5d",
   "metadata": {},
   "outputs": [
    {
     "ename": "KeyError",
     "evalue": "'prices'",
     "output_type": "error",
     "traceback": [
      "\u001b[1;31m---------------------------------------------------------------------------\u001b[0m",
      "\u001b[1;31mKeyError\u001b[0m                                  Traceback (most recent call last)",
      "Cell \u001b[1;32mIn[2], line 25\u001b[0m\n\u001b[0;32m     23\u001b[0m fecha \u001b[38;5;241m=\u001b[39m []\n\u001b[0;32m     24\u001b[0m precio_usd \u001b[38;5;241m=\u001b[39m []\n\u001b[1;32m---> 25\u001b[0m \u001b[38;5;28;01mfor\u001b[39;00m i \u001b[38;5;129;01min\u001b[39;00m \u001b[43mdata\u001b[49m\u001b[38;5;241;43m.\u001b[39;49m\u001b[43mjson\u001b[49m\u001b[43m(\u001b[49m\u001b[43m)\u001b[49m\u001b[43m[\u001b[49m\u001b[38;5;124;43m'\u001b[39;49m\u001b[38;5;124;43mprices\u001b[39;49m\u001b[38;5;124;43m'\u001b[39;49m\u001b[43m]\u001b[49m:\n\u001b[0;32m     26\u001b[0m     fecha\u001b[38;5;241m.\u001b[39mappend(i[\u001b[38;5;241m0\u001b[39m])\n\u001b[0;32m     27\u001b[0m     precio_usd\u001b[38;5;241m.\u001b[39mappend(i[\u001b[38;5;241m1\u001b[39m])\n",
      "\u001b[1;31mKeyError\u001b[0m: 'prices'"
     ]
    }
   ],
   "source": [
    "# Obtener datos de la API coingecko\n",
    "\n",
    "url = \"https://api.coingecko.com/api/v3/coins/bitcoin/market_chart/range?precision=2\"\n",
    "\n",
    "fecha_i = int(time.mktime(datetime(2023,1,1).timetuple()))  # Fechas Unix\n",
    "fecha_f = int(time.mktime(datetime(2023,12,1).timetuple()))\n",
    "# fecha_i = int(time.mktime((datetime.today().replace(hour=0, minute=0, second=0, microsecond=0) - timedelta(days=365)).timetuple()))\n",
    "# fecha_f = int(time.mktime(datetime.today().replace(hour=0, minute=0, second=0, microsecond=0).timetuple()))\n",
    "\n",
    "# imformación necesaria para consultar con la Api\n",
    "params = {\n",
    "    # 'id':'bitcoin',\n",
    "    'vs_currency':'usd',\n",
    "    'from': fecha_i,\n",
    "    'to': fecha_f,\n",
    "    # 'precision': '2'\n",
    "}\n",
    "\n",
    "data = requests.get(url,params=params) # hacer Consulata a la API\n",
    "data.json().keys()\n",
    "\n",
    "# Arreglo de la imformacion \n",
    "fecha = []\n",
    "precio_usd = []\n",
    "for i in data.json()['prices']:\n",
    "    fecha.append(i[0])\n",
    "    precio_usd.append(i[1])\n",
    "\n",
    "market_caps = []\n",
    "for i in data.json()['market_caps']:\n",
    "    market_caps.append(i[1])\n",
    "\n",
    "total_volumes = []\n",
    "for i in data.json()['total_volumes']:\n",
    "    total_volumes.append(i[1])\n",
    "\n",
    "# Construcción de la base de datos \n",
    "\n",
    "df = pd.DataFrame({\"fecha\":fecha,\"precio_usd\":precio_usd,\"market_caps\":market_caps,\"total_volumes\":total_volumes})\n",
    "df\n",
    "\n",
    "df[\"fecha\"] = [datetime.fromtimestamp(i/1000).strftime(\"%d-%m-%Y\") for i in df[\"fecha\"]] \n",
    "\n",
    "df"
   ]
  },
  {
   "cell_type": "markdown",
   "id": "2536f6e3",
   "metadata": {},
   "source": [
    "En este bloque realizamos las automatizaciones necesarias para traer la imfromación, asi que como reusltado tenemos la base de datos del precio del bitcoin en los ultimos 365 dias."
   ]
  },
  {
   "cell_type": "code",
   "execution_count": 3,
   "id": "f5401168",
   "metadata": {},
   "outputs": [],
   "source": [
    "# Primero determinaremos cuantos años necesitamos para nuestro analisis\n",
    "\n",
    "years = 1  # Incialmente trabajemos con 3, esto quedara automatizado \n",
    "\n",
    "bases = {}\n",
    "# fecha inicial y fecha final(to, from) la fecha inical es la fecha de hoy -364 en fromato unix\n",
    "\n",
    "fecha_i = int(time.mktime((datetime.today().replace(hour=0, minute=0, second=0, microsecond=0) - timedelta(days=364)).timetuple()))\n",
    "fecha_f = int(time.mktime(datetime.today().replace(hour=0, minute=0, second=0, microsecond=0).timetuple()))\n",
    "\n",
    "for j in range(years):\n",
    "    \n",
    "    url = \"https://api.coingecko.com/api/v3/coins/bitcoin/market_chart/range?precision=2\" # Url de la Api\n",
    "\n",
    "    # imformación necesaria para consultar con la Api\n",
    "    params = {\n",
    "    # 'id':'bitcoin',\n",
    "    'vs_currency':'usd',\n",
    "    'from': fecha_i,\n",
    "    'to': fecha_f,\n",
    "    # 'precision': '2'\n",
    "    }\n",
    "    data = requests.get(url,params=params) # hacer Consulata a la API\n",
    "\n",
    "    # print(data.json().keys()) # Nos damos cuenta que el resultado es un diccionario  \n",
    "    # Con una lista   de lsitas \n",
    "\n",
    "    # Arreglo de la imformacion \n",
    "    fecha = []\n",
    "    precio_usd = []\n",
    "    for i in data.json()['prices']:\n",
    "        fecha.append(i[0])\n",
    "        precio_usd.append(i[1])\n",
    "\n",
    "    market_caps = []\n",
    "    for i in data.json()['market_caps']:\n",
    "        market_caps.append(i[1])\n",
    "\n",
    "    total_volumes = []\n",
    "    for i in data.json()['total_volumes']:\n",
    "        total_volumes.append(i[1])\n",
    "\n",
    "    # Construccion de las base de datos \n",
    "    df = pd.DataFrame({\"fecha\":fecha,\"precio_usd\":precio_usd,\"market_caps\":market_caps,\"total_volumes\":total_volumes})\n",
    "     \n",
    "    # Ajuste de la columna fecha con una comorension lista pra darle un formato mas trabajable \n",
    "    df[\"fecha\"] = [datetime.fromtimestamp(i/1000).strftime(\"%d-%m-%Y\") for i in df[\"fecha\"]] \n",
    "    \n",
    "    # Agregamos la base de datos de cada iteración al diccionario \n",
    "\n",
    "    bases[f\"Base_{j}\"] = df \n",
    "    \n",
    "    # Actualizamos las fechas para la siguiente iteración\n",
    "    fecha_f = fecha_i\n",
    "    fecha_i = int(time.mktime((datetime.fromtimestamp(fecha_f) - timedelta(days=365)).timetuple()))\n",
    "    "
   ]
  },
  {
   "cell_type": "code",
   "execution_count": 6,
   "id": "1e86bf0d",
   "metadata": {},
   "outputs": [
    {
     "data": {
      "text/html": [
       "<div>\n",
       "<style scoped>\n",
       "    .dataframe tbody tr th:only-of-type {\n",
       "        vertical-align: middle;\n",
       "    }\n",
       "\n",
       "    .dataframe tbody tr th {\n",
       "        vertical-align: top;\n",
       "    }\n",
       "\n",
       "    .dataframe thead th {\n",
       "        text-align: right;\n",
       "    }\n",
       "</style>\n",
       "<table border=\"1\" class=\"dataframe\">\n",
       "  <thead>\n",
       "    <tr style=\"text-align: right;\">\n",
       "      <th></th>\n",
       "      <th>fecha</th>\n",
       "      <th>precio_usd</th>\n",
       "      <th>market_caps</th>\n",
       "      <th>total_volumes</th>\n",
       "    </tr>\n",
       "  </thead>\n",
       "  <tbody>\n",
       "    <tr>\n",
       "      <th>0</th>\n",
       "      <td>28-08-2024</td>\n",
       "      <td>59015.30</td>\n",
       "      <td>1.166032e+12</td>\n",
       "      <td>4.201899e+10</td>\n",
       "    </tr>\n",
       "    <tr>\n",
       "      <th>1</th>\n",
       "      <td>29-08-2024</td>\n",
       "      <td>59351.58</td>\n",
       "      <td>1.171762e+12</td>\n",
       "      <td>3.256333e+10</td>\n",
       "    </tr>\n",
       "    <tr>\n",
       "      <th>2</th>\n",
       "      <td>30-08-2024</td>\n",
       "      <td>59156.25</td>\n",
       "      <td>1.168247e+12</td>\n",
       "      <td>4.403850e+10</td>\n",
       "    </tr>\n",
       "    <tr>\n",
       "      <th>3</th>\n",
       "      <td>31-08-2024</td>\n",
       "      <td>58960.24</td>\n",
       "      <td>1.164278e+12</td>\n",
       "      <td>1.139909e+10</td>\n",
       "    </tr>\n",
       "    <tr>\n",
       "      <th>4</th>\n",
       "      <td>01-09-2024</td>\n",
       "      <td>57357.72</td>\n",
       "      <td>1.133133e+12</td>\n",
       "      <td>2.546562e+10</td>\n",
       "    </tr>\n",
       "  </tbody>\n",
       "</table>\n",
       "</div>"
      ],
      "text/plain": [
       "        fecha  precio_usd   market_caps  total_volumes\n",
       "0  28-08-2024    59015.30  1.166032e+12   4.201899e+10\n",
       "1  29-08-2024    59351.58  1.171762e+12   3.256333e+10\n",
       "2  30-08-2024    59156.25  1.168247e+12   4.403850e+10\n",
       "3  31-08-2024    58960.24  1.164278e+12   1.139909e+10\n",
       "4  01-09-2024    57357.72  1.133133e+12   2.546562e+10"
      ]
     },
     "execution_count": 6,
     "metadata": {},
     "output_type": "execute_result"
    }
   ],
   "source": [
    "df = bases['Base_0']\n",
    "df.head()"
   ]
  },
  {
   "cell_type": "markdown",
   "id": "3e71e346",
   "metadata": {},
   "source": [
    "Ahora continuamos con el procesamiento de la imformación, revisamos que no existan datos nulos o faltantes, que no existan duplicados en las fechas y testear que transformaciones podemos realizar a las variables que tenemos en nuestra base de datos."
   ]
  },
  {
   "cell_type": "code",
   "execution_count": 8,
   "id": "c579bc4a",
   "metadata": {},
   "outputs": [
    {
     "data": {
      "text/plain": [
       "fecha             object\n",
       "precio_usd       float64\n",
       "market_caps      float64\n",
       "total_volumes    float64\n",
       "dtype: object"
      ]
     },
     "execution_count": 8,
     "metadata": {},
     "output_type": "execute_result"
    }
   ],
   "source": [
    "df.describe()\n",
    "df.dtypes\n"
   ]
  }
 ],
 "metadata": {
  "kernelspec": {
   "display_name": "Python 3",
   "language": "python",
   "name": "python3"
  },
  "language_info": {
   "codemirror_mode": {
    "name": "ipython",
    "version": 3
   },
   "file_extension": ".py",
   "mimetype": "text/x-python",
   "name": "python",
   "nbconvert_exporter": "python",
   "pygments_lexer": "ipython3",
   "version": "3.13.0"
  }
 },
 "nbformat": 4,
 "nbformat_minor": 5
}
